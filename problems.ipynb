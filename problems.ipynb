{
 "metadata": {
  "language_info": {
   "codemirror_mode": {
    "name": "ipython",
    "version": 3
   },
   "file_extension": ".py",
   "mimetype": "text/x-python",
   "name": "python",
   "nbconvert_exporter": "python",
   "pygments_lexer": "ipython3",
   "version": "3.9.5"
  },
  "orig_nbformat": 2,
  "kernelspec": {
   "name": "python395jvsc74a57bd048b0d93754f01b8cd096afaa5b79113d35e8de390bfd99a8a89ccbe21ec7019c",
   "display_name": "Python 3.9.5 64-bit"
  },
  "metadata": {
   "interpreter": {
    "hash": "48b0d93754f01b8cd096afaa5b79113d35e8de390bfd99a8a89ccbe21ec7019c"
   }
  }
 },
 "nbformat": 4,
 "nbformat_minor": 2,
 "cells": [
  {
   "source": [
    "## Problem solving practice\n",
    "1) Algorithm Complexity.\n",
    "\n",
    "2) Sorting."
   ],
   "cell_type": "markdown",
   "metadata": {}
  },
  {
   "source": [
    "### Algo Complexity\n",
    "Asymptotic notation is a set of languages which allow us to express the performance of our algorithms in relation to their input. Big O notation is used in Computer Science to describe the performance or complexity of an algorithm. Big O specifically describes the worst-case scenario, and can be used to describe the execution time required or the space used (e.g. in memory or on disk) by an algorithm.\n",
    "\n",
    "As a programmers we need to reach the best accuracy, we need an efficient algorithm(Time( not time in seconds but by number of the instructions), Memory).\n",
    "\n",
    "![alt text](images/BigOComplexity.png \"Big O Complexity\")\n"
   ],
   "cell_type": "markdown",
   "metadata": {}
  },
  {
   "source": [
    "### Sorting"
   ],
   "cell_type": "markdown",
   "metadata": {}
  },
  {
   "source": [
    "### 1. Bead Sort"
   ],
   "cell_type": "markdown",
   "metadata": {}
  },
  {
   "cell_type": "code",
   "execution_count": 1,
   "metadata": {},
   "outputs": [],
   "source": [
    "\"\"\"\n",
    "Bead sort only works for sequences of nonegative integers.\n",
    "https://en.wikipedia.org/wiki/Bead_sort\n",
    "\n",
    "- bead sort can achieve a sorting time of O(n)\n",
    "- used to sort lists of positive integers \n",
    "- the best case, the algorithm requires O(n2) space. \n",
    "\n",
    "Notes from original paper https://web.archive.org/web/20170809110409/https://www.cs.auckland.ac.nz/%7Ejaru003/research/publications/journals/beadsort.pdf :\n",
    "- Why does the algorithm use positive integers?\n",
    "    - My advocating is, we are simulating nature, brads are found to be positive integers, like abacus and beads, each pole in abacus has a positive integer.\n",
    "- \n",
    "\n",
    "\"\"\"\n",
    "\n",
    "def bead_sort(sequence: list) -> list:\n",
    "    \n",
    "    \"\"\"\n",
    "    >>> bead_sort([6, 11, 12, 4, 1, 5])\n",
    "    [1, 4, 5, 6, 11, 12]\n",
    "\n",
    "    >>> bead_sort([9, 8, 7, 6, 5, 4 ,3, 2, 1])\n",
    "    [1, 2, 3, 4, 5, 6, 7, 8, 9]\n",
    "\n",
    "    >>> bead_sort([5, 0, 4, 3])\n",
    "    [0, 3, 4, 5]\n",
    "\n",
    "    >>> bead_sort([8, 2, 1])\n",
    "    [1, 2, 8]\n",
    "\n",
    "    >>> bead_sort([1, .9, 0.0, 0, -1, -.9])\n",
    "    Traceback (most recent call last):\n",
    "    ...\n",
    "    TypeError: Sequence must be list of nonnegative integers\n",
    "\n",
    "    >>> bead_sort(\"Hello world\")\n",
    "    Traceback (most recent call last):\n",
    "    ...\n",
    "    TypeError: Sequence must be list of nonnegative integers\n",
    "    \"\"\"\n",
    "    if any(not isinstance(x, int) or x < 0 for x in sequence):\n",
    "        raise TypeError(\"Sequence must be list of nonnegative integers\")\n",
    "    \n",
    "    for _ in range(len(sequence)):\n",
    "        for i, (upper, lower) in enumerate(zip(sequence, sequence[1:])):\n",
    "            if upper > lower:\n",
    "                sequence[i] += upper - lower\n",
    "                sequence[i+1] += upper + lower\n",
    "    return sequence"
   ]
  },
  {
   "source": [
    "### 2. Bitonic sort\n",
    "### Notes:\n",
    "- bitonic works only when size of input is a power of 2 (4, 8, 16, 32, ...)\n",
    "- bitonic is a series of numbers that first increasing, and then decreasing.\n",
    "- Increasing series is also bitonic, as the decrerasing part is embty, Decreasing also.\n",
    "\n",
    "#### Bitonic Algorthim\n",
    "- Breakdown list into bitonic sebsequences.(Bitonic sort)\n",
    "- Combine then into larger bitonic sequences.(Bitonic merge)\n",
    "- Worst-case performance\tO ( log 2 ⁡ ( n ) )  parallel time\n",
    "- Best-case performance\tO ( log 2 ⁡ ( n ) ) parallel time\n",
    "- Average performance\tO ( log 2 ⁡ ( n ) )  parallel time\n",
    "- Worst-case space complexity\tO ( n log 2 ⁡ ( n ) )  non-parallel  \n"
   ],
   "cell_type": "markdown",
   "metadata": {}
  },
  {
   "cell_type": "code",
   "execution_count": null,
   "metadata": {},
   "outputs": [],
   "source": [
    "\n",
    "\n",
    "from typing import List\n",
    "\n",
    "#compare and swap\n",
    "def comp_and_swap(array: List[int], index1: int, index2: int, direction: int):\n",
    "    \"\"\"\n",
    "        Compare the value at given index1 and index2 of the array and swap them as per\n",
    "        the given direction.\n",
    "        The parameter direction indicates the sorting direction, ASCENDING(1) order DESCENDING(0);\n",
    "        if (a[i] > a[j]) agrees with the direction, then a[i] and a[j] are \n",
    "        interchanged.\n",
    "        >>> arr = [12, 42, -21, 1]\n",
    "        >>> comp_and_swap(arr, 1, 2, 1)\n",
    "        >>> print(arr)\n",
    "        [12, -21, 42, 1]z\n",
    "\n",
    "        >>> comp_and_swap(arr, 1, 2, 0)\n",
    "        >>> print(arr)\n",
    "        [12, 42, -21, 1]\n",
    "\n",
    "        >>> comp_and_swap(arr, 0, 3, 1)\n",
    "        >>> print(arr)\n",
    "        [1, 42, -21, 12]\n",
    "\n",
    "        >>> comp_and_swap(arr, 0, 3, 0)\n",
    "        >>> print(arr)\n",
    "        [12, 42, -21, 1]\n",
    "    \"\"\"\n",
    "    if (direction == 1 and array[index1] > array[index2]) or (\n",
    "        direction == 0 and array[index1] < array[index2]\n",
    "    ):\n",
    "        array[index1], array[index2] = array[index2], array[index1]\n",
    "\n",
    "#bitonic merge\n",
    "def bitonic_merge(array: List[int], low: int, length: int, direction: int):\n",
    "    \"\"\"\n",
    "        It recursively sorts a bitonic sequence in ascending order, if direction = 1, and in\n",
    "        descending if direction = 0.\n",
    "        The sequence to be sorted starts at index position low, the parameter length is the\n",
    "        number of elements to be sorted.\n",
    "\n",
    "        >>> arr = [12, 42, -21, 1]\n",
    "        >>> bitonic_merge(arr, 0, 4, 1)\n",
    "        >>> print(arr)\n",
    "        [-21, 1, 12, 42]\n",
    "\n",
    "        >>> bitonic_merge(arr, 0, 4, 0)\n",
    "        >>> print(arr)\n",
    "        [42, 12, 1, -21]\n",
    "    \"\"\"\n",
    "    \n",
    "    \n",
    "\n",
    "#bitonic sort\n"
   ]
  },
  {
   "source": [
    "### Insersion Sort"
   ],
   "cell_type": "markdown",
   "metadata": {}
  },
  {
   "cell_type": "code",
   "execution_count": 37,
   "metadata": {},
   "outputs": [
    {
     "output_type": "stream",
     "name": "stdout",
     "text": [
      "[1, 3, 7, 8]\n"
     ]
    }
   ],
   "source": [
    "def insertion_sort1(arr: List[int])->list:\n",
    "    for i in range(len(arr)):\n",
    "        for j in range(i+1, len(arr)):\n",
    "            if arr[j] < arr[i]:\n",
    "                arr[j], arr[i] = arr[i], arr[j]\n",
    "    return arr\n",
    "\n",
    "def insersion_sort2(collection:list) -> list:\n",
    "    for insert_index, insert_value in enumerate(collection[1:]):\n",
    "        while insert_index >= 0 and insert_value < collection[insert_index]:\n",
    "            collection[insert_index], collection[insert_index+1] =collection[insert_index+1], collection[insert_index]\n",
    "            insert_index -= 1\n",
    "    return collection\n",
    "        \n",
    "    \n",
    "def insersion_sort3(collection:list)->list:\n",
    "    for i in range(1, len(collection)):\n",
    "        for j in range(i-1, -1, -1):\n",
    "            if j >= 0 and collection[i] < collection[j]:\n",
    "                collection[i], collection[j] = collection[j], collection[i]\n",
    "                if i > 1:\n",
    "                    i -= 1\n",
    "    return collection"
   ]
  },
  {
   "cell_type": "code",
   "execution_count": 30,
   "metadata": {},
   "outputs": [],
   "source": [
    "#Debugging\n",
    "def debug(func):\n",
    "    def wrapper(*args, **kwargs):\n",
    "        args_repr = [repr(arg) for arg in args]\n",
    "        kwargs_repr = [f\"{k}={v!r}\" for key, value in kwargs.items()]\n",
    "        signature = ', '.join(args_repr + kwargs_repr)\n",
    "        print(f\"Calling {func.__name__}({signature})\")\n",
    "        value = func(*args, **kwargs)\n",
    "        print(f\"{func.__name__!r} returned {value!r}\")\n",
    "        return value\n",
    "    return wrapper"
   ]
  },
  {
   "cell_type": "code",
   "execution_count": 35,
   "metadata": {},
   "outputs": [],
   "source": []
  },
  {
   "cell_type": "code",
   "execution_count": null,
   "metadata": {},
   "outputs": [],
   "source": []
  }
 ]
}